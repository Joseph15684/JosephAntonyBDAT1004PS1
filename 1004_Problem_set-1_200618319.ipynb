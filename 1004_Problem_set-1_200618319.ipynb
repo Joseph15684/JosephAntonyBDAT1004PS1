{
 "cells": [
  {
   "cell_type": "markdown",
   "id": "57991cb5-4b0b-42b7-b5e1-8d982a46edee",
   "metadata": {},
   "source": [
    " **#Assignment-1 Joseph_200618319**"
   ]
  },
  {
   "cell_type": "markdown",
   "id": "b70655bd-fd50-42e1-9e5c-b12f1e4e7cad",
   "metadata": {},
   "source": [
    "**Question 1**\n",
    "\r\n",
    "What data type is each of the following (evaluate where necessary)\n",
    "5\r\n",
    "5.0\r\n",
    "5 > 1\r\n",
    "'5'\r\n",
    "5 * 2\r\n",
    "'5' * 2\r\n",
    "'5' + '2'\r\n",
    "5 / 2\r\n",
    "5 % 2\r\n",
    "{5, 2, 1}\r\n",
    "5 == 3\r\n",
    "Pi (tvaluate) pyth?"
   ]
  },
  {
   "cell_type": "code",
   "execution_count": 122,
   "id": "a095fe75-5b31-40a5-ad75-ec22cfc7d982",
   "metadata": {},
   "outputs": [
    {
     "name": "stdout",
     "output_type": "stream",
     "text": [
      "<class 'int'>\n",
      "5\n",
      "<class 'float'>\n",
      "5.0\n",
      "<class 'bool'>\n",
      "True\n",
      "<class 'str'>\n",
      "5\n",
      "<class 'int'>\n",
      "10\n",
      "<class 'str'>\n",
      "55\n",
      "<class 'str'>\n",
      "52\n",
      "<class 'float'>\n",
      "2.5\n",
      "<class 'int'>\n",
      "1\n",
      "<class 'set'>\n",
      "{1, 2, 5}\n",
      "<class 'bool'>\n",
      "False\n",
      "<class 'float'>\n",
      "3.14\n"
     ]
    }
   ],
   "source": [
    "print(type(5))\n",
    "print(5)\n",
    "print(type(5.0))\n",
    "print(5.0)\n",
    "print(type(5 > 1))\n",
    "print(5 > 1)\n",
    "print(type('5'))\n",
    "print('5')\n",
    "print(type(5 * 2))\n",
    "print(5 * 2)\n",
    "print(type('5' * 2))\n",
    "print('5' * 2)\n",
    "print(type('5' + '2'))\n",
    "print('5' + '2')\n",
    "print(type(5 / 2))\n",
    "print(5 / 2)\n",
    "print(type(5 % 2))\n",
    "print(5 % 2)\n",
    "print(type({5, 2, 1}))\n",
    "print({5, 2, 1})\n",
    "print(type(5 == 3))\n",
    "print(5 == 3)\n",
    "print(type(3.14))\n",
    "print(3.14)\n",
    "\n"
   ]
  },
  {
   "cell_type": "markdown",
   "id": "98e4ddfd-6032-42c8-84b7-bd4a967b54b3",
   "metadata": {},
   "source": [
    "**Question 2**\n",
    "\r\n",
    "Write (and evaluate) python expressions that answer these questions:\r\n",
    "a. How many letters are there in 'Supercalifragilisticexpialidocious'?\r\n",
    "b. Does 'Supercalifragilisticexpialidocious' contain 'ice' as a substriStudies\r\n",
    "c. Which of the following words is the longest:\r\n",
    "Supercalifragilisticexpialidocious, Honorificabilitudinitatibus, or\r\n",
    "Bababadalgharaghtakamminarronnkonn?\r\n",
    "d. Which composer comes first in the dictionary: 'Berlioz', 'Borodin', 'Brian',\r\n",
    "'Bartok', 'Bellini', 'Buxtehude', 'Bernstein'. Which one comes last?"
   ]
  },
  {
   "cell_type": "code",
   "execution_count": 34,
   "id": "bec42672-5272-41cb-bba6-281a681cb53b",
   "metadata": {},
   "outputs": [
    {
     "name": "stdout",
     "output_type": "stream",
     "text": [
      "34\n",
      "Supercalifragilisticexpialidocious contains ice as substring\n",
      "34\n",
      "the longest word in z is  Supercalifragilisticexpialidocious and Bababadalgharaghtakamminarronnkonn\n",
      "27\n",
      "the longest word in z is  Supercalifragilisticexpialidocious and Bababadalgharaghtakamminarronnkonn\n",
      "34\n",
      "the longest word in z is  Supercalifragilisticexpialidocious and Bababadalgharaghtakamminarronnkonn\n",
      "7\n",
      "first word in the dictionary is Bartok\n",
      "first word in the dictionary is Buxtehude\n"
     ]
    }
   ],
   "source": [
    "x=\"Supercalifragilisticexpialidocious\"\n",
    "print(len(x))\n",
    "\n",
    "b=x.find(\"ice\")\n",
    "if b!= -1:\n",
    "    print(x,\"contains ice as substring\")\n",
    "else:\n",
    "    print(x,\"not contains ice as substring\")\n",
    "\n",
    "y=\"Supercalifragilisticexpialidocious,Honorificabilitudinitatibus,Bababadalgharaghtakamminarronnkonn\"\n",
    "z=y.split(\",\")\n",
    "for a in z: \n",
    "    print(len(a))\n",
    "    print(\"the longest word in z is \",z[0],\"and\",z[2])\n",
    "\n",
    "dictionary=['Berlioz', 'Borodin', 'Brian',\n",
    "'Bartok', 'Bellini', 'Buxtehude', 'Bernstein']\n",
    "dictionary.sort()\n",
    "print(len(dictionary))\n",
    "print(\"first word in the dictionary is\",dictionary[0])\n",
    "print(\"first word in the dictionary is\",dictionary[6])\n"
   ]
  },
  {
   "cell_type": "markdown",
   "id": "a5c41d70-7a08-4bd3-9d6e-685c6033aedc",
   "metadata": {},
   "source": [
    "**Question 3**\n",
    "\n",
    "Implement function triangleArea(a,b,c) that takes as input the lengths of the 3\r\n",
    "sides of a triangle and returns the area of the triangle. By Heron's formula, the area\r\n",
    "of a triangle with side lengths a, b, and c is\r\n",
    "s(s - a)(s -b)(s -c)\r\n",
    ", where\r\n",
    "s = (a+b+c)/2.\r\n",
    ">>> triangleArea(2,2,2)\r\n",
    "1.7320508075688772"
   ]
  },
  {
   "cell_type": "code",
   "execution_count": 36,
   "id": "4170e34d-ad9e-4a7e-b5ac-1d2aa8479f9a",
   "metadata": {},
   "outputs": [
    {
     "name": "stdin",
     "output_type": "stream",
     "text": [
      "enter first number a = 5\n",
      "enter second number b = 6\n",
      "enter third number c = 7\n"
     ]
    },
    {
     "name": "stdout",
     "output_type": "stream",
     "text": [
      "area of the triangle is : 14.696938456699069\n"
     ]
    }
   ],
   "source": [
    "import math\n",
    "a=float(input(\"enter first number a =\"))\n",
    "b=float(input(\"enter second number b =\"))\n",
    "c=float(input(\"enter third number c =\"))\n",
    "s=(a+b+c)/2\n",
    "A=math.sqrt(s*(s-a)*(s-b)*(s-c))\n",
    "print(\"area of the triangle is :\",A)"
   ]
  },
  {
   "cell_type": "markdown",
   "id": "15ea04b5-02b6-4d94-a18e-8ad00723dd9e",
   "metadata": {},
   "source": [
    "**Question 4**\n",
    "\r\n",
    "Write a program in python to separate odd and even integers in separate arrays. Go\r\n",
    "to the editor\r\n",
    "Test Data :\r\n",
    "Input the number of elements to be stored in the array :5\r\n",
    "Input 5 elements in the array :\r\n",
    "element - 0 : 25\r\n",
    "element - 1 : 47\r\n",
    "element - 2 : 42\r\n",
    "element - 3 : 56\r\n",
    "element - 4 : 32\r\n",
    "Expected Output:\r\n",
    "The Even elements are:\r\n",
    "42 56 32\r\n",
    "The Odd elements are :\r\n",
    "25 47s are :\r\n",
    "25 47"
   ]
  },
  {
   "cell_type": "code",
   "execution_count": 50,
   "id": "33d5d3f1-2ead-47a2-b821-c7eb70aa8936",
   "metadata": {},
   "outputs": [
    {
     "name": "stdin",
     "output_type": "stream",
     "text": [
      "Input the number of elements : 5\n",
      " 89\n",
      " 67\n",
      " 50\n",
      " 33\n",
      " 70\n"
     ]
    },
    {
     "name": "stdout",
     "output_type": "stream",
     "text": [
      " Entered numbers are : [89, 67, 50, 33, 70]\n",
      "The Even elements are: [50, 70]\n",
      "TThe Odd elements are: [89, 67, 33]\n"
     ]
    }
   ],
   "source": [
    "number = []\n",
    "evenlist = []\n",
    "oddlist = []\n",
    "n=int(input(\"Input the number of elements :\"))\n",
    "for i in range(0,n):\n",
    "    a=int(input())\n",
    "    number.append(a)\n",
    "print(\" Entered numbers are :\",number)\n",
    "for i in number:\n",
    "    if i%2 == 0:\n",
    "        evenlist.append(i);\n",
    "    else:\n",
    "        oddlist.append(i);\n",
    "print(\"The Even elements are:\",evenlist)\n",
    "print(\"TThe Odd elements are:\",oddlist)\n",
    "        \n",
    "    "
   ]
  },
  {
   "cell_type": "markdown",
   "id": "12679489-6335-49f5-bc48-8292418ab4ab",
   "metadata": {},
   "source": [
    "**Question 5**\n",
    "\r\n",
    "a. Write a function inside(x,y,x1,y1,x2,y2) that returns True or False\r\n",
    "depending on whether the point (x,y) lies in the rectangle with lower left\r\n",
    "corner (x1,y1) and upper right corner (x2,y2).\r\n",
    ">>> inside(1,1,0,0,2,3)\r\n",
    "True\r\n",
    ">>> inside(-1,-1,0,0,2,3)\r\n",
    "False\r\n",
    "b. Use function inside() from part a. to write an expression that tests whether\r\n",
    "the point (1,1) lies in both of the following rectangles: one with lower left\r\n",
    "corner (0.3, 0.5) and upper right corner (1.1, 0.7) and the other with lower\r\n",
    "left corner (0.5, 0.2) and upper right cornee following t"
   ]
  },
  {
   "cell_type": "code",
   "execution_count": 56,
   "id": "49b22930-23e2-4485-8b5b-5e5769602200",
   "metadata": {},
   "outputs": [
    {
     "name": "stdout",
     "output_type": "stream",
     "text": [
      "true\n",
      "false\n",
      "false\n",
      "the point not lies in rectangle\n"
     ]
    }
   ],
   "source": [
    "def inside(x,y,x1,y1,x2,y2):\n",
    "    if (x >= x1 and x <= x2 and y >= y1 and y <= y2 ):\n",
    "        print(\"true\")\n",
    "    else:\n",
    "        print(\"false\")\n",
    "inside(1,1,0,0,2,3)\n",
    "inside(-1,-1,0,0,2,3)\n",
    "\n",
    "if ((inside(1,1,0.3,0.5,1.1,0.7)) and (inside(1,1,0.5,0.2,1.1,0.2))):\n",
    "    print(\"the point lies in rectangle\")\n",
    "else:\n",
    "    print(\"the point not lies in rectangle\")\n",
    "    "
   ]
  },
  {
   "cell_type": "markdown",
   "id": "55af948b-d11d-4d69-9875-e2be01628335",
   "metadata": {},
   "source": [
    "**Question 6**\n",
    "\r\n",
    "16. You can turn a word into pig-Latin using the following two rules (simplified):\r\n",
    "• If the word starts with a consonant, move that letter to the end and append\r\n",
    "'ay'. For example, 'happy' becomes 'appyhay' and 'pencil' becomes 'encilpay'.\r\n",
    "• If the word starts with a vowel, simply append 'way' to the end of the word.\r\n",
    "For example, 'enter' becomes 'enterway' and 'other' becomes 'otherway' . For\r\n",
    "our purposes, there are 5 vowels: a, e, i, o, u (so we count y as a consonant).\r\n",
    "Write a function pig() that takes a word (i.e., a string) as input and returns its pigLatin form. Your function should still work if the input word contains upper case\r\n",
    "characters. Your output should always be lower case however.\r\n",
    ">>> pig('happy')\r\n",
    "'appyhay'\r\n",
    ">>> pig('Enter')\r\n",
    "'enterway' "
   ]
  },
  {
   "cell_type": "code",
   "execution_count": 13,
   "id": "a0b0a3c5-3936-4138-ab24-a656e0b7295a",
   "metadata": {},
   "outputs": [
    {
     "name": "stdin",
     "output_type": "stream",
     "text": [
      "The input word:  Happy\n"
     ]
    },
    {
     "name": "stdout",
     "output_type": "stream",
     "text": [
      "The output of Happy : appyhay\n"
     ]
    }
   ],
   "source": [
    "vowels = \"aeiou\"\n",
    "\n",
    "def pig(string):\n",
    "   \n",
    "    lower_string = string.lower()\n",
    "    \n",
    "    if lower_string[0] in vowels:\n",
    "        result = lower_string + \"way\"\n",
    "    else:\n",
    "        result = lower_string[1:] + lower_string[0] + \"ay\"\n",
    "    \n",
    "    return result\n",
    "\n",
    "str_input = input(\"The input word: \")\n",
    "print(\"The output of\", str_input, \":\", pig(str_input))\n"
   ]
  },
  {
   "cell_type": "markdown",
   "id": "f8a199b3-0f75-416d-81f9-fbcfd2fb3fda",
   "metadata": {},
   "source": [
    "**Question 7**\n",
    "\r\n",
    "File bloodtype1.txt records blood-types of patients (A, B, AB, O or OO) at a clinic.\r\n",
    "Write a function bldcount() that reads the file with name name and reports (i.e.,\r\n",
    "prints) how many patients there are in each bloodtype.\r\n",
    ">>> bldcount('bloodtype.txt')\r\n",
    "There are 10 patients of blood type A.\r\n",
    "There is one patient of blood type B.\r\n",
    "There are 10 patients of blood type AB.\r\n",
    "There are 12 patients of blood type O.\r\n",
    "There are no patients of blood type OO.\r"
   ]
  },
  {
   "cell_type": "code",
   "execution_count": 3,
   "id": "6d091bfe-e2bd-43c0-a086-c43be2cba55a",
   "metadata": {},
   "outputs": [
    {
     "name": "stdout",
     "output_type": "stream",
     "text": [
      "The length of the list : 44\n",
      "There are 13 patients of blood type AB\n",
      "There are 15 patients of blood type A\n",
      "There are 1 patients of blood type B\n",
      "There are 15 patients of blood type O\n",
      "There are 0 patients of blood type OO\n"
     ]
    }
   ],
   "source": [
    "def bldcount(file):\n",
    "    list=open(\"bloodtype.txt\")\n",
    "    list=list.read()\n",
    "    file=list.split()\n",
    "    print(\"The length of the list :\",len(file))\n",
    "    print(\"There are\",file.count(\"AB\"), \"patients of blood type AB\")\n",
    "    print(\"There are\",file.count(\"A\") ,\"patients of blood type A\")\n",
    "    print(\"There are\",file.count(\"B\"),\"patients of blood type B\")\n",
    "    print(\"There are\",file.count(\"O\"),\"patients of blood type O\")\n",
    "    print(\"There are\",file.count(\"OO\"),\"patients of blood type OO\")\n",
    "\n",
    "\n",
    "bldcount(\"bloodtype.txt\")"
   ]
  },
  {
   "cell_type": "markdown",
   "id": "330d2d1d-569c-4f9c-924c-bbea90eb7c68",
   "metadata": {},
   "source": [
    "**Question 8**\n",
    "\n",
    "Write a function curconv() that takes as input:\n",
    "1. a currency represented using a string (e.g., 'JPY' for the Japanese Yen or\n",
    "'EUR' for the Euro)\n",
    "2. an amount\n",
    "and then converts and returns the amount in US dollars"
   ]
  },
  {
   "cell_type": "code",
   "execution_count": 35,
   "id": "fdbc1f62-915d-4fcd-a26a-6e33ee248263",
   "metadata": {},
   "outputs": [
    {
     "name": "stdout",
     "output_type": "stream",
     "text": [
      "['AUD', '1.0345157', 'Australian', 'Dollar', 'CHF', '1.0237414', 'Swiss', 'Franc', 'CNY', '0.1550176', 'Chinese', 'Yuan', 'DKK', '0.1651442', 'Danish', 'Krone', 'EUR', '1.2296544', 'Euro', 'GBP', '1.5550989', 'British', 'Pound', 'HKD', '0.1270207', 'Hong', 'Kong', 'Dollar', 'INR', '0.0177643', 'Indian', 'Rupee', 'JPY', '0.01241401', 'Japanese', 'Yen', 'MXN', '0.0751848', 'Mexican', 'Peso', 'MYR', '0.3145411', 'Malaysian', 'Ringgit', 'NOK', '0.1677063', 'Norwegian', 'Krone', 'NZD', '0.8003591', 'New', 'Zealand', 'Dollar', 'PHP', '0.0233234', 'Philippine', 'Peso', 'SEK', '0.148269', 'Swedish', 'Krona', 'SGD', '0.788871', 'Singapore', 'Dollar', 'THB', '0.0313789', 'Thai', 'Baht']\n"
     ]
    },
    {
     "name": "stdin",
     "output_type": "stream",
     "text": [
      "Enter the amount: 100\n",
      "Enter the currency type : EUR\n"
     ]
    },
    {
     "name": "stdout",
     "output_type": "stream",
     "text": [
      "100.00 EUR is equal to 122.97 USD\n"
     ]
    }
   ],
   "source": [
    "file=open(\"currency rate.txt\")\n",
    "y=file.read()\n",
    "x=y.split()\n",
    "print(x)\n",
    "def currency_converter(amount,currency):\n",
    "    currency_rates={'AUD':'1.0345157','CHF':'1.0237414','CNY':'0.1550176','DKK':'0.1651442','EUR':'1.2296544',\n",
    "               'GBP':'1.5550989','HKD':'0.1270207','INR':'0.0177643','JPY':'0.01241401','MXN':'0.0751848',\n",
    "               'MYR':'0.3145411','NOK':'0.1677063','NZD':'0.8003591','PHP':'0.0233234','SEK':'0.148269',\n",
    "               'SGD':'0.788871','THB':'0.0313789'}\n",
    "    conversion_rate =float( currency_rates.get(currency,0))\n",
    "    if conversion_rate == 0:\n",
    "        return None\n",
    "    return amount*conversion_rate\n",
    "amount=float(input(\"Enter the amount:\"))\n",
    "currency=input(\"Enter the currency type :\")\n",
    "\n",
    "usd= currency_converter(amount,currency)\n",
    "if usd is None:\n",
    "    print(\" Invalid currency\")\n",
    "else:\n",
    "    print(\"{0:.2f}\".format (amount),currency,\"is equal to\",\"{0:.2f}\".format(usd),\"USD\")\n",
    "    "
   ]
  },
  {
   "cell_type": "markdown",
   "id": "690021fc-c4f3-4a89-ab36-3aac79c87c17",
   "metadata": {},
   "source": [
    "**Question 9**\n",
    "\r\n",
    "Each of the following will cause an exception (an error). Identify what type of\r\n",
    "exception each will cause."
   ]
  },
  {
   "cell_type": "markdown",
   "id": "c72e1b7f-1c2b-4bd7-bf81-b1e9531c072a",
   "metadata": {},
   "source": [
    "**1.Trying to add incompatible variables, as in\n",
    " adding 6 + ‘a’**\n",
    "\n",
    "Error: unsupported operand type(s) for +: 'int' and 'str'.\n",
    "Here 6 is int and 'a' string.we can not add astring and int\n",
    " \n",
    "**2.Referring to the 12th item of a list that has only 10\n",
    "items**\n",
    "\n",
    "IndexError: list index out of range.\n",
    "Here the list consist only 10 items that is why it can't access 12th item in the list.\n",
    "\n",
    "**3.Using a value that is out of range for a function’s\n",
    "input, such as calling math.sqrt(-1.0)**\n",
    "\n",
    "Error:math domain error\n",
    "\n",
    "**4.Using an undeclared variable, such as print(x)\n",
    "when x has not been defined**\n",
    "\n",
    "Error : name \"x\" is not defined\n",
    "\n",
    "**5.Trying to open a file that does not exist, such as\n",
    "mistyping the file name or looking in the wrong\n",
    "directory.** \n",
    "\n",
    "Error : No such file or directiory:'data.txt'"
   ]
  },
  {
   "cell_type": "markdown",
   "id": "e5f47721-62c9-48fd-81a6-8e196d65d83a",
   "metadata": {},
   "source": [
    "**Question 10**\n",
    "\r\n",
    "Encryption is the process of hiding the meaning of a text by substituting letters in the\r\n",
    "message with other letters, according to some system. If the process is successful, no\r\n",
    "one but the intended recipient can understand the encrypted message. Cryptanalysis\r\n",
    "refers to attempts to undo the encryption, even if some details of the encryption are\r\n",
    "unknown (for example, if an encrypted message has been intercepted). The first step\r\n",
    "of cryptanalysis is often to build up a table of letter frequencies in the encrypted text.\r\n",
    "Assume that the string letters is already defined as\r\n",
    "'abcdefghijklmnopqrstuvwxyz'. Write a function called frequencies()\r\n",
    "that takes a string as its only parameter, and returns a list of integers, showing the\r\n",
    "number of times each character appears in the text. Your function may ignore any\r\n",
    "characters that are not in letters."
   ]
  },
  {
   "cell_type": "code",
   "execution_count": 15,
   "id": "680494e1-59b1-47c8-8807-bc93d56b9620",
   "metadata": {},
   "outputs": [
    {
     "name": "stdin",
     "output_type": "stream",
     "text": [
      "Enter the word string here: apple\n"
     ]
    },
    {
     "name": "stdout",
     "output_type": "stream",
     "text": [
      "dict_values([1, 0, 0, 0, 1, 0, 0, 0, 0, 0, 0, 1, 0, 0, 0, 2, 0, 0, 0, 0, 0, 0, 0, 0, 0])\n"
     ]
    }
   ],
   "source": [
    "letter = \"abcdefghijklmnopqrstuvwxyz\"\n",
    "letters = {\"a\": 0, \"b\": 0, \"c\": 0, \"d\": 0, \"e\": 0, \"f\": 0, \"g\": 0, \"h\": 0, \"i\": 0, \"j\": 0,\n",
    "           \"k\": 0, \"l\": 0, \"m\": 0, \"n\": 0, \"o\": 0, \"p\": 0, \"q\": 0, \"r\": 0, \"s\": 0, \"t\": 0,\n",
    "           \"v\": 0, \"w\": 0, \"x\": 0, \"y\": 0, \"z\": 0}\n",
    "string = input(\"Enter the word string here:\")\n",
    "string = string.lower()\n",
    "\n",
    "def frequencies():\n",
    "    for i in range(len(string)):\n",
    "        if string[i] in letters:\n",
    "            letters[string[i]] += 1\n",
    "    print(letters.values())\n",
    "\n",
    "frequencies()\n"
   ]
  },
  {
   "cell_type": "code",
   "execution_count": null,
   "id": "b7d3eb57-4111-43f3-87ad-595ecdb930b5",
   "metadata": {},
   "outputs": [],
   "source": []
  }
 ],
 "metadata": {
  "kernelspec": {
   "display_name": "Python 3 (ipykernel)",
   "language": "python",
   "name": "python3"
  },
  "language_info": {
   "codemirror_mode": {
    "name": "ipython",
    "version": 3
   },
   "file_extension": ".py",
   "mimetype": "text/x-python",
   "name": "python",
   "nbconvert_exporter": "python",
   "pygments_lexer": "ipython3",
   "version": "3.12.4"
  }
 },
 "nbformat": 4,
 "nbformat_minor": 5
}
